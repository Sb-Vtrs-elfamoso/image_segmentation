{
 "cells": [
  {
   "cell_type": "markdown",
   "id": "31a34569",
   "metadata": {},
   "source": [
    "# Rapport final Segmentation : Mumford-Shah problem\n"
   ]
  },
  {
   "cell_type": "markdown",
   "id": "959f85ed",
   "metadata": {},
   "source": [
    "The objectives of the two phase piecewise contstant Mumford-Shah problem is to segment images into two regions : foreground and background.\n",
    "\n",
    "Let an image defined on the domain $\\Omega \\in \\mathbb{R}^{2}$\n",
    "A gray scaling $I(.)$ is applied to each image pixel; $I : \\Omega \\mapsto [0;255]$.\n",
    "Then, we can calculate a binary mask to solve the binary segmentation problem  $u : \\Omega \\mapsto \\{0;1\\}$\n",
    "\n",
    "Hence : \n",
    "* the foreground region $S_f = \\{x \\in \\Omega , u(x) = 1 \\}$\n",
    "* the background region $S_b = \\{x \\in \\Omega , u(x) = 0 \\}$\n",
    "\n",
    "This segmentation problem is a minimization problem :\n",
    "\n",
    "$$ ( u^{*},c_{1}^{*},u_{2}^{*} ) = \n",
    "            \\underset{ \\substack{\n",
    "            u \\in \\{0;1\\}^{| \\Omega |}\\\\\n",
    "            c_1 \\in [0;255]\\\\\n",
    "            c_2 \\in [0;255]}} {\\operatorname{argmin}}\n",
    "            \\underbrace{\\int_{\\Omega} |Du|}_{\\textit{foreground contour length}}\n",
    "            + \\lambda \\underbrace{\\int_{\\Omega} |I(x) - c_1|^2 u(x) \\,dx}_{\\textit{color variation in foreground}}\n",
    "            + \\lambda \\underbrace{\\int_{\\Omega} |I(x) - c_2|^2 (1-u(x)) \\,dx}_{\\textit{color variation in background}}\n",
    "$$\n",
    "$\\lambda \\geq 0$ weights the influence of the regularization term (the foreground contour length) with respect to the data term (color variations)\n",
    "\n",
    "However, minimizing this problem with respect to $u$ within a variational framework is limited by two main technical issues :\n",
    "\n",
    "* The binary mask $u$ lives in $\\{0; 1\\}^{|\\Omega|}$ is **not a convex space**.\n",
    "* The analytic derivation of the regularization term gives $div \\big{(}\\frac{\\nabla u}{||\\nabla u||}\\big{)}$ which\n",
    "is **not defined everywhere and involves numerical approximations** (where $||\\nabla u(x)|| = 0$)\n",
    "\n",
    "Hence, we will study some approaches introduced in papers of A. Chambolle and T. Chan and their co-authors, allowing to compute $u$ within a variational framework."
   ]
  },
  {
   "cell_type": "markdown",
   "id": "90515303",
   "metadata": {},
   "source": [
    "## Chan-Vese level set formulation"
   ]
  },
  {
   "cell_type": "code",
   "execution_count": null,
   "id": "3a9f9d9e",
   "metadata": {},
   "outputs": [],
   "source": []
  },
  {
   "cell_type": "markdown",
   "id": "d85909da",
   "metadata": {},
   "source": [
    "## Chan, Esedoglu and Nikolova convex formulation"
   ]
  },
  {
   "cell_type": "code",
   "execution_count": null,
   "id": "bcdea3e9",
   "metadata": {},
   "outputs": [],
   "source": []
  },
  {
   "cell_type": "markdown",
   "id": "16c4bf71",
   "metadata": {},
   "source": [
    "## Dual Formulation of the Total Variation"
   ]
  },
  {
   "cell_type": "code",
   "execution_count": null,
   "id": "a20db9e0",
   "metadata": {},
   "outputs": [],
   "source": []
  },
  {
   "cell_type": "markdown",
   "id": "e8ee9f26",
   "metadata": {},
   "source": [
    "## Conclusion\n",
    "It is interesting to see how resolving the issues results in algorithms which are more accurate, faster, more stable and simpler to parameterize.\n",
    "\n",
    "Note that such problem can also be solved by graph cuts or by propagation algorithms"
   ]
  },
  {
   "cell_type": "markdown",
   "id": "86b999df",
   "metadata": {},
   "source": [
    "## References"
   ]
  },
  {
   "cell_type": "code",
   "execution_count": null,
   "id": "2906a8c1",
   "metadata": {},
   "outputs": [],
   "source": []
  }
 ],
 "metadata": {
  "kernelspec": {
   "display_name": "Python 3 (ipykernel)",
   "language": "python",
   "name": "python3"
  },
  "language_info": {
   "codemirror_mode": {
    "name": "ipython",
    "version": 3
   },
   "file_extension": ".py",
   "mimetype": "text/x-python",
   "name": "python",
   "nbconvert_exporter": "python",
   "pygments_lexer": "ipython3",
   "version": "3.9.12"
  }
 },
 "nbformat": 4,
 "nbformat_minor": 5
}
